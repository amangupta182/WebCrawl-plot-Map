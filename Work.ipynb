{
 "cells": [
  {
   "cell_type": "markdown",
   "metadata": {},
   "source": [
    "## Using selenium to dynamically access the given url"
   ]
  },
  {
   "cell_type": "code",
   "execution_count": null,
   "metadata": {},
   "outputs": [],
   "source": [
    "from urllib.request import urlopen\n",
    "from bs4 import BeautifulSoup\n",
    "from selenium.webdriver.support.ui import Select\n",
    "from urllib.request import urlopen \n",
    "from selenium.webdriver.common.keys import Keys\n",
    "import pandas as pd"
   ]
  },
  {
   "cell_type": "markdown",
   "metadata": {},
   "source": [
    "#### loading website and getting to the required table\n"
   ]
  },
  {
   "cell_type": "code",
   "execution_count": null,
   "metadata": {},
   "outputs": [],
   "source": [
    "from selenium import webdriver\n",
    "browser = webdriver.Chrome()\n",
    "url = \"https://doris.delhigovt.nic.in/login.aspx\"\n",
    "browser.get(url)"
   ]
  },
  {
   "cell_type": "code",
   "execution_count": null,
   "metadata": {},
   "outputs": [],
   "source": [
    "button = browser.find_element_by_id(\"Tr6\")  \n",
    "button.click() "
   ]
  },
  {
   "cell_type": "code",
   "execution_count": null,
   "metadata": {},
   "outputs": [],
   "source": [
    "a = browser.find_element_by_id(\"ctl00_ContentPlaceHolder1_ddl_sro_s\")\n",
    "select = Select(a)\n",
    "select.select_by_value(\"85\")"
   ]
  },
  {
   "cell_type": "code",
   "execution_count": null,
   "metadata": {},
   "outputs": [],
   "source": [
    "a = browser.find_element_by_xpath(\"//select[@id='ctl00_ContentPlaceHolder1_ddl_loc_s']\")\n",
    "select = Select(a)\n",
    "select.select_by_value(\"0001\")"
   ]
  },
  {
   "cell_type": "code",
   "execution_count": null,
   "metadata": {},
   "outputs": [],
   "source": [
    "a = browser.find_element_by_id('ctl00_ContentPlaceHolder1_txtcaptcha_s')\n",
    "a.send_keys(\"962294\")"
   ]
  },
  {
   "cell_type": "code",
   "execution_count": null,
   "metadata": {},
   "outputs": [],
   "source": [
    "button = browser.find_element_by_id('ctl00_ContentPlaceHolder1_cSearch_withoutRegyear')\n",
    "button.click()\n"
   ]
  },
  {
   "cell_type": "code",
   "execution_count": null,
   "metadata": {},
   "outputs": [],
   "source": [
    "abcdfsd=[]\n",
    "df3 = pd.DataFrame({'Reg Date':\"\",\n",
    "                   'First party':\"\",\n",
    "                   'Second party':\"\",\n",
    "                   'AREA':\"\",\n",
    "                   'Deed':\"\",\n",
    "                   'Property Type':\"\",\n",
    "                   'Address': abcdfsd\n",
    "                    })"
   ]
  },
  {
   "cell_type": "markdown",
   "metadata": {},
   "source": [
    "#### Method generally used to get data but it wasn't used here because the html of the table had repeated data"
   ]
  },
  {
   "cell_type": "code",
   "execution_count": null,
   "metadata": {},
   "outputs": [],
   "source": [
    "#tables = bso2.findAll('table')\n",
    "#for table in tables:\n",
    "#    trr = table.findAll('tr')\n",
    "#    for trrr in trr:\n",
    "#        td = trrr.findAll('td')\n",
    "#        print([i.text for i in td])\n"
   ]
  },
  {
   "cell_type": "markdown",
   "metadata": {},
   "source": [
    "# Method used to get data from table*"
   ]
  },
  {
   "cell_type": "markdown",
   "metadata": {},
   "source": [
    "#### Used to go from one page to the other"
   ]
  },
  {
   "cell_type": "code",
   "execution_count": null,
   "metadata": {},
   "outputs": [],
   "source": [
    "element = browser.find_element_by_name(\"ctl00$ContentPlaceHolder1$gv_search$ctl13$txtGoToPage\")\n",
    "element.send_keys(Keys.CONTROL + \"a\")\n",
    "element.send_keys(Keys.DELETE)\n",
    "element.send_keys(1)\n",
    "element.submit()    \n"
   ]
  },
  {
   "cell_type": "code",
   "execution_count": null,
   "metadata": {},
   "outputs": [],
   "source": [
    "innerHTML = browser.execute_script(\"return document.body.innerHTML\")\n",
    "bso2 = BeautifulSoup(innerHTML)\n",
    "bso2"
   ]
  },
  {
   "cell_type": "markdown",
   "metadata": {},
   "source": [
    "#### Get first party name "
   ]
  },
  {
   "cell_type": "code",
   "execution_count": null,
   "metadata": {},
   "outputs": [],
   "source": [
    "x=range(1,10)\n",
    "abc=[]\n",
    "for element in x:\n",
    "    abc.append('ctl00_ContentPlaceHolder1_gv_search_ctl0' + str(element) + '_firstprt')\n",
    "x=range(10)\n",
    "for element in x:\n",
    "    abc.append('ctl00_ContentPlaceHolder1_gv_search_ctl1' + str(element) + '_firstprt')\n",
    "a = bso2.findAll(\"span\",{\"id\":abc})\n",
    "c=[]\n",
    "for b in a:\n",
    "    c.append(b.get_text())"
   ]
  },
  {
   "cell_type": "markdown",
   "metadata": {},
   "source": [
    "#### Get second party name "
   ]
  },
  {
   "cell_type": "code",
   "execution_count": null,
   "metadata": {},
   "outputs": [],
   "source": [
    "x=range(1,10)\n",
    "abc=[]\n",
    "for element in x:\n",
    "    abc.append('ctl00_ContentPlaceHolder1_gv_search_ctl0' + str(element) + '_secondprt')\n",
    "x=range(10)\n",
    "for element in x:\n",
    "    abc.append('ctl00_ContentPlaceHolder1_gv_search_ctl1' + str(element) + '_secondprt')\n",
    "a = bso2.findAll(\"span\",{\"id\":abc})\n",
    "k=[]\n",
    "for b in a:\n",
    "    k.append(b.get_text())"
   ]
  },
  {
   "cell_type": "markdown",
   "metadata": {},
   "source": [
    "#### Get registration data"
   ]
  },
  {
   "cell_type": "code",
   "execution_count": null,
   "metadata": {},
   "outputs": [],
   "source": [
    "x=range(1,10)\n",
    "abc=[]\n",
    "for element in x:\n",
    "    abc.append('ctl00_ContentPlaceHolder1_gv_search_ctl0' + str(element) + '_regdate')\n",
    "x=range(10)\n",
    "for element in x:\n",
    "    abc.append('ctl00_ContentPlaceHolder1_gv_search_ctl1' + str(element) + '_regdate')\n",
    "\n",
    "d = bso2.findAll(\"span\",{\"id\":abc})\n",
    "e=[]\n",
    "for b in d:\n",
    "    e.append(b.get_text())    "
   ]
  },
  {
   "cell_type": "code",
   "execution_count": null,
   "metadata": {},
   "outputs": [],
   "source": [
    "# get Area\n",
    "x=range(1,10)\n",
    "abc=[]\n",
    "for element in x:\n",
    "    abc.append('ctl00_ContentPlaceHolder1_gv_search_ctl0' + str(element) + '_area')\n",
    "x=range(10)\n",
    "for element in x:\n",
    "    abc.append('ctl00_ContentPlaceHolder1_gv_search_ctl1' + str(element) + '_area')\n",
    "\n",
    "d = bso2.findAll(\"span\",{\"id\":abc})\n",
    "f=[]\n",
    "for b in d:\n",
    "    f.append(b.get_text())    "
   ]
  },
  {
   "cell_type": "code",
   "execution_count": null,
   "metadata": {},
   "outputs": [],
   "source": [
    "# get DEED\n",
    "x=range(1,10)\n",
    "abc=[]\n",
    "for element in x:\n",
    "    abc.append('ctl00_ContentPlaceHolder1_gv_search_ctl0' + str(element) + '_deedtp')\n",
    "x=range(10)\n",
    "for element in x:\n",
    "    abc.append('ctl00_ContentPlaceHolder1_gv_search_ctl1' + str(element) + '_deedtp')\n",
    "\n",
    "d = bso2.findAll(\"span\",{\"id\":abc})\n",
    "g=[]\n",
    "for b in d:\n",
    "    g.append(b.get_text())    "
   ]
  },
  {
   "cell_type": "code",
   "execution_count": null,
   "metadata": {},
   "outputs": [],
   "source": [
    "#get property \n",
    "\n",
    "x=range(1,10)\n",
    "abc=[]\n",
    "for element in x:\n",
    "    abc.append('ctl00_ContentPlaceHolder1_gv_search_ctl0' + str(element) + '_protp')\n",
    "x=range(10)\n",
    "for element in x:\n",
    "    abc.append('ctl00_ContentPlaceHolder1_gv_search_ctl1' + str(element) + '_protp')\n",
    "\n",
    "d = bso2.findAll(\"span\",{\"id\":abc})\n",
    "h=[]\n",
    "for b in d:\n",
    "    h.append(b.get_text())    "
   ]
  },
  {
   "cell_type": "code",
   "execution_count": null,
   "metadata": {},
   "outputs": [],
   "source": [
    "# get address\n",
    "\n",
    "x=range(1,10)\n",
    "abc=[]\n",
    "for element in x:\n",
    "    abc.append('ctl00_ContentPlaceHolder1_gv_search_ctl0' + str(element) + '_proadd')\n",
    "x=range(10)\n",
    "for element in x:\n",
    "    abc.append('ctl00_ContentPlaceHolder1_gv_search_ctl1' + str(element) + '_proadd')\n",
    "\n",
    "d = bso2.findAll(\"span\",{\"id\":abc})\n",
    "add=[]\n",
    "for b in d:\n",
    "    add.append(b.get_text())    "
   ]
  },
  {
   "cell_type": "code",
   "execution_count": null,
   "metadata": {},
   "outputs": [],
   "source": [
    "# create data frame and store\n",
    "df = pd.DataFrame({'Reg Date':e,\n",
    "                   'First party':c,\n",
    "                   'Second party':k,\n",
    "                   'AREA':f,\n",
    "                   'Deed':g,\n",
    "                   'Property Type':h,\n",
    "                   'Address':add\n",
    "                    })"
   ]
  },
  {
   "cell_type": "markdown",
   "metadata": {},
   "source": [
    "#### store"
   ]
  },
  {
   "cell_type": "code",
   "execution_count": null,
   "metadata": {},
   "outputs": [],
   "source": [
    "df3.to_csv(\"table3.csv\")"
   ]
  },
  {
   "cell_type": "markdown",
   "metadata": {},
   "source": [
    "# *"
   ]
  },
  {
   "cell_type": "code",
   "execution_count": null,
   "metadata": {},
   "outputs": [],
   "source": [
    "\n",
    "'''\n",
    "import time\n",
    "for i in range(2,25):\n",
    "    time.sleep(10)\n",
    "    abcd = bs.find(\"span\",{\"id\":\"ctl00_ContentPlaceHolder1_gv_search_ctl02_pname\"})\n",
    "    print(abcd.get_text()) \n",
    "    abcd = bs.find(\"span\",{\"id\":\"ctl00_ContentPlaceHolder1_gv_search_ctl03_pname\"})\n",
    "    print(abcd.get_text() )\n",
    "    abcd = bs.find(\"span\",{\"id\":\"ctl00_ContentPlaceHolder1_gv_search_ctl04_pname\"})\n",
    "    print(abcd.get_text() )\n",
    "    abcd = bs.find(\"span\",{\"id\":\"ctl00_ContentPlaceHolder1_gv_search_ctl05_pname\"})\n",
    "    print(abcd.get_text() )\n",
    "    abcd = bs.find(\"span\",{\"id\":\"ctl00_ContentPlaceHolder1_gv_search_ctl06_pname\"})\n",
    "    print(abcd.get_text() )\n",
    "    abcd = bs.find(\"span\",{\"id\":\"ctl00_ContentPlaceHolder1_gv_search_ctl07_pname\"})\n",
    "    print(abcd.get_text() )\n",
    "    abcd = bs.find(\"span\",{\"id\":\"ctl00_ContentPlaceHolder1_gv_search_ctl08_pname\"})\n",
    "    print(abcd.get_text() )\n",
    "    abcd = bs.find(\"span\",{\"id\":\"ctl00_ContentPlaceHolder1_gv_search_ctl09_pname\"})\n",
    "    print(abcd.get_text() )\n",
    "    abcd = bs.find(\"span\",{\"id\":\"ctl00_ContentPlaceHolder1_gv_search_ctl10_pname\"})\n",
    "    print(abcd.get_text()) \n",
    "    abcd = bs.find(\"span\",{\"id\":\"ctl00_ContentPlaceHolder1_gv_search_ctl11_pname\"})\n",
    "    print(abcd.get_text()) \n",
    "    element = browser.find_element_by_name(\"ctl00$ContentPlaceHolder1$gv_search$ctl13$txtGoToPage\")\n",
    "    element.send_keys(Keys.CONTROL + \"a\")\n",
    "    element.send_keys(Keys.DELETE)\n",
    "    element.send_keys(i)\n",
    "    element.click()\n",
    "    time.sleep(10)\n",
    "    innerHTML2 = browser.page_source\n",
    "    bs = BeautifulSoup(innerHTML2, 'html.parser')\n",
    "    time.sleep(10)\n",
    "'''    "
   ]
  },
  {
   "cell_type": "code",
   "execution_count": null,
   "metadata": {},
   "outputs": [],
   "source": [
    "import pandas as pd\n",
    "a=pd.read_csv(\"table.csv\")\n",
    "b=pd.read_csv(\"table2.csv\")\n",
    "c=pd.read_csv(\"table3.csv\")\n",
    "data = a\n",
    "data = data.append(b)\n",
    "data=data.append(c)\n",
    "data = data.drop(labels=\"Unnamed: 0\",axis=1)\n",
    "data.to_csv(\"Full_data.csv\")"
   ]
  },
  {
   "cell_type": "markdown",
   "metadata": {},
   "source": [
    "# Plot"
   ]
  },
  {
   "cell_type": "code",
   "execution_count": null,
   "metadata": {},
   "outputs": [],
   "source": [
    "import matplotlib.pyplot as plt\n",
    "import seaborn as sns\n",
    "import collections"
   ]
  },
  {
   "cell_type": "code",
   "execution_count": null,
   "metadata": {},
   "outputs": [],
   "source": [
    "from sklearn.preprocessing import LabelEncoder\n",
    "code = LabelEncoder()\n",
    "deed = code.fit_transform(data.Deed)\n",
    "a=collections.Counter(data.Deed)\n",
    "keys=[]\n",
    "for k in a.keys():\n",
    "    keys.append(k)\n",
    "print(keys)\n",
    "values=[]\n",
    "for k in a.values():\n",
    "    values.append(k)\n",
    "print(values)   \n",
    "plt.figure(figsize=(20,10))\n",
    "plt.xticks(rotation=40)\n",
    "sns.barplot(keys,values)"
   ]
  },
  {
   "cell_type": "code",
   "execution_count": null,
   "metadata": {},
   "outputs": [],
   "source": [
    "plt.figure(figsize=(10,10))\n",
    "plt.pie(values,labels=keys,autopct=\"%1.1f%%\")\n",
    "plt.show()"
   ]
  },
  {
   "cell_type": "markdown",
   "metadata": {},
   "source": [
    "# Display location using ipyleaflet"
   ]
  },
  {
   "cell_type": "code",
   "execution_count": null,
   "metadata": {},
   "outputs": [],
   "source": [
    "import re\n",
    "browser=webdriver.Chrome()\n",
    "browser.get(\"https://www.google.co.in/maps\")\n",
    "import pandas as pd\n",
    "data=pd.read_csv(\"Full_data.csv\")\n",
    "lat=[]\n",
    "long=[]"
   ]
  },
  {
   "cell_type": "code",
   "execution_count": null,
   "metadata": {},
   "outputs": [],
   "source": [
    "for i in range(len(data.Address)):   \n",
    "    box=browser.find_element_by_id(\"searchboxinput\")\n",
    "    box.send_keys(data.Address[i])\n",
    "    button=browser.find_element_by_id(\"searchbox-searchbutton\")\n",
    "    button.click()\n",
    "    time.sleep(1)\n",
    "    a=str(browser.current_url)\n",
    "    result = re.search('.*@(.*),.*', a)\n",
    "    a = str(result.group(1))\n",
    "    a = a.split(\",\")\n",
    "    lat.append(a[0])\n",
    "    long.append(a[1])\n",
    "    box2=browser.find_element_by_id(\"searchboxinput\")\n",
    "    box2.send_keys(Keys.CONTROL + \"a\")\n",
    "    box2.send_keys(Keys.DELETE)"
   ]
  },
  {
   "cell_type": "code",
   "execution_count": null,
   "metadata": {},
   "outputs": [],
   "source": [
    "from ipyleaflet import Map,basemaps,Marker\n",
    "maps=Map(center=[28.564045, 77.194807],zoom=15)\n",
    "for i in (0,40):\n",
    "    latlng = [lat[i],long[i]]\n",
    "    marker = Marker(location = latlng,\n",
    "                    title = data[\"Reg Date\"][i] +\" , \"+ data[\"First party\"][i] +\" , \"+ data[\"Second party\"][i]+\" , \" + data[\"AREA\"][i])\n",
    "    time.sleep(1)\n",
    "    maps.add_layer(marker)\n",
    "    time.sleep(1)\n",
    "display(maps)"
   ]
  }
 ],
 "metadata": {
  "kernelspec": {
   "display_name": "Python 3",
   "language": "python",
   "name": "python3"
  },
  "language_info": {
   "codemirror_mode": {
    "name": "ipython",
    "version": 3
   },
   "file_extension": ".py",
   "mimetype": "text/x-python",
   "name": "python",
   "nbconvert_exporter": "python",
   "pygments_lexer": "ipython3",
   "version": "3.7.3"
  }
 },
 "nbformat": 4,
 "nbformat_minor": 2
}
